{
 "cells": [
  {
   "cell_type": "code",
   "execution_count": null,
   "metadata": {},
   "outputs": [],
   "source": [
    "import re\n",
    "import ast\n",
    "import zipfile\n",
    "import openpyxl\n",
    "import pandas as pd\n",
    "import networkx as nx\n",
    "import xml.etree.ElementTree as ET\n",
    "from collections import defaultdict"
   ]
  },
  {
   "cell_type": "code",
   "execution_count": null,
   "metadata": {},
   "outputs": [],
   "source": [
    "\n",
    "\n",
    "def DEPENDENCY_GRAPHING(FORMULAS):\n",
    "\n",
    "    G = nx.DiGraph()\n",
    "\n",
    "    for SHEET_NAME, CELLS in FORMULAS.items():\n",
    "        for CELL, CELL_DATA in CELLS.items():\n",
    "            NODE_ID = f\"{SHEET_NAME}!{CELL}\"\n",
    "            G.add_node(NODE_ID)\n",
    "\n",
    "            # Add edges for each reference in the formula\n",
    "            REFERENCES = CELL_DATA.get('REFERENCES', [])\n",
    "            for REF in REFERENCES:\n",
    "                REF_SHEET = REF['SHEET']\n",
    "                REF_CELL = REF['CELL']\n",
    "                REF_NODE_ID = f\"{REF_SHEET}!{REF_CELL}\"\n",
    "                G.add_node(REF_NODE_ID)  \n",
    "                G.add_edge(REF_NODE_ID, NODE_ID)\n",
    "\n",
    "    return G\n",
    "\n",
    "\n",
    "\n",
    "\n",
    "def FORMULA_CLUSTERS(FORMULA):\n",
    "    \n",
    "    CLUSTERS = defaultdict(dict)\n",
    "\n",
    "    for SHEET_NAME, CELLS in FORMULA.items():\n",
    "        FORM_CLUSTERS = defaultdict(list)\n",
    "\n",
    "        for CELL, CELL_DATA in CELLS.items():\n",
    "            FORMULA_KEY = CELL_DATA.get('FORMULA', 'NO_FORMULA')\n",
    "            FORM_CLUSTERS[FORMULA_KEY].append(CELL)\n",
    "\n",
    "        CLUSTERS[SHEET_NAME] = dict(FORM_CLUSTERS)\n",
    "\n",
    "    return CLUSTERS\n",
    "\n",
    "\n",
    "\n",
    "\n",
    "def MAP_CROSS_REFERENCES(CROSS_SHEET_REF, WORKSHEETS):\n",
    "\n",
    "    CROSS_SHEET_MAP = defaultdict(list)\n",
    "\n",
    "    for SHEET_NAME, CELLS in CROSS_SHEET_REF.items():\n",
    "        for CELL, REFERENCES in CELLS.items():\n",
    "            for REF in REFERENCES:\n",
    "                REF_SHEET   = REF['SHEET']\n",
    "                REF_CELL    = REF['CELL']\n",
    "\n",
    "                if REF_SHEET in WORKSHEETS:\n",
    "                    CROSS_SHEET_MAP[(SHEET_NAME, CELL)].append((REF_SHEET, REF_CELL))\n",
    "\n",
    "    return CROSS_SHEET_MAP\n",
    "\n",
    "\n",
    "\n"
   ]
  },
  {
   "cell_type": "code",
   "execution_count": null,
   "metadata": {},
   "outputs": [],
   "source": [
    "def PHASE_3_OVERVIEW(FORMULA_REFS, CROSS_SHEET_REFS):\n",
    "\n",
    "    DEPENDENCY_GRAPH    = DEPENDENCY_GRAPHING(FORMULA_REFS)\n",
    "    FORMULA_CLUSTER     = FORMULA_CLUSTERS(FORMULA_REFS)\n",
    "    CROSS_SHEET_MAP     = MAP_CROSS_REFERENCES(CROSS_SHEET_REFS, FORMULA_REFS)\n",
    "\n",
    "    return {'DEPENDENCY_GRAPH'  : DEPENDENCY_GRAPH,\n",
    "            'CLUSTERS'          : FORMULA_CLUSTER,\n",
    "            'CROSS_SHEET_MAP'   : CROSS_SHEET_MAP}\n",
    "\n",
    "\n",
    "\n"
   ]
  },
  {
   "cell_type": "code",
   "execution_count": null,
   "metadata": {},
   "outputs": [],
   "source": [
    "def GRAPH_INFO(GRAPH):\n",
    "\n",
    "    ATTRIBUTES = [GRAPH.number_of_nodes(), GRAPH.number_of_edges(), list(GRAPH.nodes), list(GRAPH.edges)]\n",
    "\n",
    "    # Print basic graph information\n",
    "    print(f\"Number of nodes: {ATTRIBUTES[0]}\")\n",
    "    print(f\"Number of edges: {ATTRIBUTES[1]}\")\n",
    "    \n",
    "    # Optionally, you can also list nodes and edges\n",
    "    print(\"\\nNodes in the graph:\")\n",
    "    print(ATTRIBUTES[2])\n",
    "    \n",
    "    print(\"\\nEdges in the graph:\")\n",
    "    print(ATTRIBUTES[3])\n",
    "\n",
    "    return ATTRIBUTES\n",
    "\n",
    "\n",
    "\n"
   ]
  },
  {
   "cell_type": "code",
   "execution_count": null,
   "metadata": {},
   "outputs": [],
   "source": []
  },
  {
   "cell_type": "code",
   "execution_count": null,
   "metadata": {},
   "outputs": [],
   "source": [
    "P3_RESULTS = PHASE_3_OVERVIEW(EXTRACTOR.DICT, CROSS_REF.DICT)\n",
    "\n",
    "print(P3_RESULTS['CLUSTERS']) "
   ]
  },
  {
   "cell_type": "code",
   "execution_count": null,
   "metadata": {},
   "outputs": [],
   "source": []
  },
  {
   "cell_type": "code",
   "execution_count": null,
   "metadata": {},
   "outputs": [],
   "source": [
    "DEPENDENCY_GRAPH    = DEPENDENCY_GRAPHING(EXTRACTOR.DICT)\n",
    "ATTRIBUTES          = GRAPH_INFO(DEPENDENCY_GRAPH)\n",
    "\n"
   ]
  }
 ],
 "metadata": {
  "language_info": {
   "name": "python"
  }
 },
 "nbformat": 4,
 "nbformat_minor": 2
}
